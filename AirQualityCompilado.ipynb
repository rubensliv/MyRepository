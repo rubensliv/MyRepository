{
  "nbformat": 4,
  "nbformat_minor": 0,
  "metadata": {
    "colab": {
      "provenance": [],
      "authorship_tag": "ABX9TyMvIdJY47eGQxUxABghTeUx",
      "include_colab_link": true
    },
    "kernelspec": {
      "name": "python3",
      "display_name": "Python 3"
    },
    "language_info": {
      "name": "python"
    }
  },
  "cells": [
    {
      "cell_type": "markdown",
      "metadata": {
        "id": "view-in-github",
        "colab_type": "text"
      },
      "source": [
        "<a href=\"https://colab.research.google.com/github/rubensliv/MyRepository/blob/master/AirQualityCompilado.ipynb\" target=\"_parent\"><img src=\"https://colab.research.google.com/assets/colab-badge.svg\" alt=\"Open In Colab\"/></a>"
      ]
    },
    {
      "cell_type": "code",
      "execution_count": null,
      "metadata": {
        "id": "0opZsNkygsHY"
      },
      "outputs": [],
      "source": []
    },
    {
      "cell_type": "markdown",
      "source": [
        "# ================================================\n",
        "# REGRESSÃO COM XGBOOST - BASE AIR QUALITY (UCI)\n",
        "# COM FILTRAGEM DE NaNs EM y, VALIDAÇÃO CRUZADA,\n",
        "# OTIMIZAÇÃO E PIPELINE COMPLETO\n",
        "# ================================================\n"
      ],
      "metadata": {
        "id": "JWUtDal5gtM_"
      }
    },
    {
      "cell_type": "code",
      "source": [
        "# 1. Instalar bibliotecas necessárias (se ainda não instaladas)\n",
        "!pip install ucimlrepo xgboost --quiet"
      ],
      "metadata": {
        "id": "t4cTBZ_IgwLu"
      },
      "execution_count": 1,
      "outputs": []
    },
    {
      "cell_type": "code",
      "source": [
        "# 2. Importar bibliotecas essenciais\n",
        "from ucimlrepo import fetch_ucirepo         # Para baixar a base UCI diretamente\n",
        "import pandas as pd                         # Manipulação de dados\n",
        "import numpy as np                          # Operações numéricas\n",
        "import matplotlib.pyplot as plt             # Visualizações gráficas\n",
        "import seaborn as sns                       # Visualizações estatísticas aprimoradas\n",
        "\n",
        "from xgboost import XGBRegressor, plot_importance  # Modelo XGBoost e gráfico de importância\n",
        "from sklearn.model_selection import train_test_split, cross_val_score, GridSearchCV  # Validação e otimização\n",
        "from sklearn.impute import SimpleImputer           # Tratamento de dados faltantes\n",
        "from sklearn.pipeline import Pipeline              # Pipeline para encadear processos\n",
        "from sklearn.metrics import mean_absolute_error, mean_squared_error, r2_score  # Métricas de avaliação\n",
        "import joblib"
      ],
      "metadata": {
        "id": "qM8YULtogyYl"
      },
      "execution_count": 2,
      "outputs": []
    },
    {
      "cell_type": "code",
      "source": [
        "# 3. Baixar a base de dados Air Quality do repositório UCI\n",
        "air_quality = fetch_ucirepo(id=360)\n",
        "df = air_quality.data.original   # Obter o DataFrame original"
      ],
      "metadata": {
        "id": "q4nLAR0rg30q"
      },
      "execution_count": 3,
      "outputs": []
    },
    {
      "cell_type": "code",
      "source": [
        "# 4. Limpar e padronizar nomes das colunas (remover espaços e caracteres especiais)\n",
        "df.columns = [col.strip().replace('(GT)', '').replace('.', '_').replace('(', '').replace(')', '') for col in df.columns]\n"
      ],
      "metadata": {
        "id": "K0LhAVkjg4nr"
      },
      "execution_count": 4,
      "outputs": []
    },
    {
      "cell_type": "code",
      "source": [
        "# 5. Converter colunas para numérico e substituir valores -200 por NaN (indicam dados ausentes)\n",
        "for col in df.columns[2:]:   # Ignora as duas primeiras colunas que são data/hora\n",
        "    df[col] = pd.to_numeric(df[col], errors='coerce')\n",
        "df.replace(-200, np.nan, inplace=True)"
      ],
      "metadata": {
        "id": "R945Kjxrg9Tq"
      },
      "execution_count": 5,
      "outputs": []
    },
    {
      "cell_type": "code",
      "source": [
        "# 6. Definir variáveis de interesse: alvo, sensores e variáveis ambientais\n",
        "variaveis_alvo = ['C6H6']   # Concentração de Benzeno (alvo)\n",
        "sensores = ['PT08_S1_CO', 'PT08_S2_NMHC', 'PT08_S3_NOx', 'PT08_S4_NO2', 'PT08_S5_O3']  # Sensores\n",
        "ambientais = ['T', 'RH', 'AH']  # Temperatura, Umidade relativa e Umidade absoluta\n",
        "\n",
        "# Verificar quais colunas realmente existem no dataframe, para evitar erros\n",
        "colunas_existentes = df.columns.tolist()\n",
        "sensores_existentes = [col for col in sensores if col in colunas_existentes]\n",
        "ambientais_existentes = [col for col in ambientais if col in colunas_existentes]\n",
        "alvo_existente = [col for col in variaveis_alvo if col in colunas_existentes]\n",
        "\n",
        "# Selecionar apenas as colunas válidas para análise\n",
        "variaveis_selecionadas = sensores_existentes + ambientais_existentes + alvo_existente\n",
        "df = df[variaveis_selecionadas]\n",
        "\n",
        "print(\"Colunas usadas no modelo:\", variaveis_selecionadas)"
      ],
      "metadata": {
        "colab": {
          "base_uri": "https://localhost:8080/"
        },
        "id": "bK9OwsJig-bP",
        "outputId": "285a9821-297a-4167-a92a-185f00914c04"
      },
      "execution_count": 6,
      "outputs": [
        {
          "output_type": "stream",
          "name": "stdout",
          "text": [
            "Colunas usadas no modelo: ['T', 'RH', 'AH', 'C6H6']\n"
          ]
        }
      ]
    },
    {
      "cell_type": "code",
      "source": [
        "# 7. Separar preditores (X) e variável alvo (y)\n",
        "X = df[sensores_existentes + ambientais_existentes]\n",
        "y = df[alvo_existente[0]]"
      ],
      "metadata": {
        "id": "13GX_PAbhIt_"
      },
      "execution_count": 7,
      "outputs": []
    },
    {
      "cell_type": "code",
      "source": [
        "# 8. Remover linhas onde y possui valores nulos (NaN)\n",
        "not_nan_idx = y.notna()    # Índices onde y não é NaN\n",
        "X = X.loc[not_nan_idx]     # Manter só essas linhas em X\n",
        "y = y.loc[not_nan_idx]     # Manter só essas linhas em y\n",
        "\n",
        "print(f\"Quantidade de registros após remoção de NaNs em y: {len(y)}\")"
      ],
      "metadata": {
        "colab": {
          "base_uri": "https://localhost:8080/"
        },
        "id": "cX7O6Dc8hJoj",
        "outputId": "0eb6a1a4-dc65-41e2-c310-c28add0c12c7"
      },
      "execution_count": 8,
      "outputs": [
        {
          "output_type": "stream",
          "name": "stdout",
          "text": [
            "Quantidade de registros após remoção de NaNs em y: 8991\n"
          ]
        }
      ]
    },
    {
      "cell_type": "code",
      "source": [
        "# 9. Criar pipeline que primeiro imputa dados faltantes em X e depois aplica XGBoost para regressão\n",
        "pipeline = Pipeline([\n",
        "    ('imputador', SimpleImputer(strategy='mean')),    # Substitui NaNs pela média da coluna\n",
        "    ('xgb', XGBRegressor(objective='reg:squarederror', random_state=42))  # Regressor XGBoost\n",
        "])"
      ],
      "metadata": {
        "id": "1tenRXGehBQC"
      },
      "execution_count": 9,
      "outputs": []
    },
    {
      "cell_type": "code",
      "source": [
        "# 10. Avaliar desempenho com validação cruzada (5 folds) usando R² como métrica\n",
        "print(\"\\n🔄 Rodando validação cruzada (5 folds) - R²\")\n",
        "scores = cross_val_score(pipeline, X, y, cv=5, scoring='r2', n_jobs=-1)  # n_jobs=-1 usa todos cores CPU\n",
        "print(f\"R² médio: {scores.mean():.4f}\")\n",
        "print(f\"Desvio padrão do R²: {scores.std():.4f}\")\n"
      ],
      "metadata": {
        "colab": {
          "base_uri": "https://localhost:8080/"
        },
        "id": "n_cUIcsohQku",
        "outputId": "44f13e1b-8cf0-4f19-e4fa-8cc4b332ce5a"
      },
      "execution_count": 10,
      "outputs": [
        {
          "output_type": "stream",
          "name": "stdout",
          "text": [
            "\n",
            "🔄 Rodando validação cruzada (5 folds) - R²\n",
            "R² médio: -0.2972\n",
            "Desvio padrão do R²: 0.1416\n"
          ]
        }
      ]
    },
    {
      "cell_type": "code",
      "source": [
        "# 10. Avaliar desempenho com validação cruzada (5 folds) usando R² como métrica\n",
        "print(\"\\n🔄 Rodando validação cruzada (5 folds) - R²\")\n",
        "scores = cross_val_score(pipeline, X, y, cv=5, scoring='r2', n_jobs=-1)  # n_jobs=-1 usa todos cores CPU\n",
        "print(f\"R² médio: {scores.mean():.4f}\")\n",
        "print(f\"Desvio padrão do R²: {scores.std():.4f}\")\n"
      ],
      "metadata": {
        "colab": {
          "base_uri": "https://localhost:8080/"
        },
        "id": "dxGD70KVhTTK",
        "outputId": "5c57be03-fbbd-466e-beaf-045f5e2167ae"
      },
      "execution_count": 11,
      "outputs": [
        {
          "output_type": "stream",
          "name": "stdout",
          "text": [
            "\n",
            "🔄 Rodando validação cruzada (5 folds) - R²\n",
            "R² médio: -0.2972\n",
            "Desvio padrão do R²: 0.1416\n"
          ]
        }
      ]
    },
    {
      "cell_type": "code",
      "source": [
        "# 11. Definir grade de hiperparâmetros para otimização via GridSearchCV\n",
        "param_grid = {\n",
        "    'xgb__n_estimators': [50, 100, 150],       # Número de árvores\n",
        "    'xgb__max_depth': [3, 5, 7],               # Profundidade máxima das árvores\n",
        "    'xgb__learning_rate': [0.01, 0.1, 0.2]     # Taxa de aprendizado (eta)\n",
        "}"
      ],
      "metadata": {
        "id": "smcTxvWphXGR"
      },
      "execution_count": 12,
      "outputs": []
    },
    {
      "cell_type": "code",
      "source": [
        "# 12. Executar GridSearch para encontrar melhores hiperparâmetros\n",
        "grid_search = GridSearchCV(pipeline, param_grid, cv=3, scoring='r2', n_jobs=-1, verbose=2)\n",
        "grid_search.fit(X, y)   # Treina e valida em folds\n",
        "\n",
        "print(\"\\n🏆 Melhores hiperparâmetros encontrados:\")\n",
        "print(grid_search.best_params_)\n",
        "print(f\"Melhor R² com GridSearch: {grid_search.best_score_:.4f}\")"
      ],
      "metadata": {
        "colab": {
          "base_uri": "https://localhost:8080/"
        },
        "id": "s6ytB8bnhf28",
        "outputId": "757c49d0-a1d4-4664-a826-a6f01e58ad74"
      },
      "execution_count": 13,
      "outputs": [
        {
          "output_type": "stream",
          "name": "stdout",
          "text": [
            "Fitting 3 folds for each of 27 candidates, totalling 81 fits\n",
            "\n",
            "🏆 Melhores hiperparâmetros encontrados:\n",
            "{'xgb__learning_rate': 0.01, 'xgb__max_depth': 3, 'xgb__n_estimators': 50}\n",
            "Melhor R² com GridSearch: 0.0074\n"
          ]
        }
      ]
    },
    {
      "cell_type": "code",
      "source": [
        "# 13. Dividir dados em treino e teste para avaliação final\n",
        "X_train, X_test, y_train, y_test = train_test_split(X, y, test_size=0.2, random_state=42)"
      ],
      "metadata": {
        "id": "29qMHsnjhizg"
      },
      "execution_count": 14,
      "outputs": []
    },
    {
      "cell_type": "code",
      "source": [
        "# 14. Treinar o pipeline otimizado no conjunto de treino\n",
        "melhor_pipeline = grid_search.best_estimator_\n",
        "melhor_pipeline.fit(X_train, y_train)"
      ],
      "metadata": {
        "colab": {
          "base_uri": "https://localhost:8080/",
          "height": 155
        },
        "id": "fPoj3cxuhlV8",
        "outputId": "89dde400-07a5-4557-da68-5e129030e826"
      },
      "execution_count": 15,
      "outputs": [
        {
          "output_type": "execute_result",
          "data": {
            "text/plain": [
              "Pipeline(steps=[('imputador', SimpleImputer()),\n",
              "                ('xgb',\n",
              "                 XGBRegressor(base_score=None, booster=None, callbacks=None,\n",
              "                              colsample_bylevel=None, colsample_bynode=None,\n",
              "                              colsample_bytree=None, device=None,\n",
              "                              early_stopping_rounds=None,\n",
              "                              enable_categorical=False, eval_metric=None,\n",
              "                              feature_types=None, gamma=None, grow_policy=None,\n",
              "                              importance_type=None,\n",
              "                              interaction_constraints=None, learning_rate=0.01,\n",
              "                              max_bin=None, max_cat_threshold=None,\n",
              "                              max_cat_to_onehot=None, max_delta_step=None,\n",
              "                              max_depth=3, max_leaves=None,\n",
              "                              min_child_weight=None, missing=nan,\n",
              "                              monotone_constraints=None, multi_strategy=None,\n",
              "                              n_estimators=50, n_jobs=None,\n",
              "                              num_parallel_tree=None, random_state=42, ...))])"
            ],
            "text/html": [
              "<style>#sk-container-id-1 {\n",
              "  /* Definition of color scheme common for light and dark mode */\n",
              "  --sklearn-color-text: #000;\n",
              "  --sklearn-color-text-muted: #666;\n",
              "  --sklearn-color-line: gray;\n",
              "  /* Definition of color scheme for unfitted estimators */\n",
              "  --sklearn-color-unfitted-level-0: #fff5e6;\n",
              "  --sklearn-color-unfitted-level-1: #f6e4d2;\n",
              "  --sklearn-color-unfitted-level-2: #ffe0b3;\n",
              "  --sklearn-color-unfitted-level-3: chocolate;\n",
              "  /* Definition of color scheme for fitted estimators */\n",
              "  --sklearn-color-fitted-level-0: #f0f8ff;\n",
              "  --sklearn-color-fitted-level-1: #d4ebff;\n",
              "  --sklearn-color-fitted-level-2: #b3dbfd;\n",
              "  --sklearn-color-fitted-level-3: cornflowerblue;\n",
              "\n",
              "  /* Specific color for light theme */\n",
              "  --sklearn-color-text-on-default-background: var(--sg-text-color, var(--theme-code-foreground, var(--jp-content-font-color1, black)));\n",
              "  --sklearn-color-background: var(--sg-background-color, var(--theme-background, var(--jp-layout-color0, white)));\n",
              "  --sklearn-color-border-box: var(--sg-text-color, var(--theme-code-foreground, var(--jp-content-font-color1, black)));\n",
              "  --sklearn-color-icon: #696969;\n",
              "\n",
              "  @media (prefers-color-scheme: dark) {\n",
              "    /* Redefinition of color scheme for dark theme */\n",
              "    --sklearn-color-text-on-default-background: var(--sg-text-color, var(--theme-code-foreground, var(--jp-content-font-color1, white)));\n",
              "    --sklearn-color-background: var(--sg-background-color, var(--theme-background, var(--jp-layout-color0, #111)));\n",
              "    --sklearn-color-border-box: var(--sg-text-color, var(--theme-code-foreground, var(--jp-content-font-color1, white)));\n",
              "    --sklearn-color-icon: #878787;\n",
              "  }\n",
              "}\n",
              "\n",
              "#sk-container-id-1 {\n",
              "  color: var(--sklearn-color-text);\n",
              "}\n",
              "\n",
              "#sk-container-id-1 pre {\n",
              "  padding: 0;\n",
              "}\n",
              "\n",
              "#sk-container-id-1 input.sk-hidden--visually {\n",
              "  border: 0;\n",
              "  clip: rect(1px 1px 1px 1px);\n",
              "  clip: rect(1px, 1px, 1px, 1px);\n",
              "  height: 1px;\n",
              "  margin: -1px;\n",
              "  overflow: hidden;\n",
              "  padding: 0;\n",
              "  position: absolute;\n",
              "  width: 1px;\n",
              "}\n",
              "\n",
              "#sk-container-id-1 div.sk-dashed-wrapped {\n",
              "  border: 1px dashed var(--sklearn-color-line);\n",
              "  margin: 0 0.4em 0.5em 0.4em;\n",
              "  box-sizing: border-box;\n",
              "  padding-bottom: 0.4em;\n",
              "  background-color: var(--sklearn-color-background);\n",
              "}\n",
              "\n",
              "#sk-container-id-1 div.sk-container {\n",
              "  /* jupyter's `normalize.less` sets `[hidden] { display: none; }`\n",
              "     but bootstrap.min.css set `[hidden] { display: none !important; }`\n",
              "     so we also need the `!important` here to be able to override the\n",
              "     default hidden behavior on the sphinx rendered scikit-learn.org.\n",
              "     See: https://github.com/scikit-learn/scikit-learn/issues/21755 */\n",
              "  display: inline-block !important;\n",
              "  position: relative;\n",
              "}\n",
              "\n",
              "#sk-container-id-1 div.sk-text-repr-fallback {\n",
              "  display: none;\n",
              "}\n",
              "\n",
              "div.sk-parallel-item,\n",
              "div.sk-serial,\n",
              "div.sk-item {\n",
              "  /* draw centered vertical line to link estimators */\n",
              "  background-image: linear-gradient(var(--sklearn-color-text-on-default-background), var(--sklearn-color-text-on-default-background));\n",
              "  background-size: 2px 100%;\n",
              "  background-repeat: no-repeat;\n",
              "  background-position: center center;\n",
              "}\n",
              "\n",
              "/* Parallel-specific style estimator block */\n",
              "\n",
              "#sk-container-id-1 div.sk-parallel-item::after {\n",
              "  content: \"\";\n",
              "  width: 100%;\n",
              "  border-bottom: 2px solid var(--sklearn-color-text-on-default-background);\n",
              "  flex-grow: 1;\n",
              "}\n",
              "\n",
              "#sk-container-id-1 div.sk-parallel {\n",
              "  display: flex;\n",
              "  align-items: stretch;\n",
              "  justify-content: center;\n",
              "  background-color: var(--sklearn-color-background);\n",
              "  position: relative;\n",
              "}\n",
              "\n",
              "#sk-container-id-1 div.sk-parallel-item {\n",
              "  display: flex;\n",
              "  flex-direction: column;\n",
              "}\n",
              "\n",
              "#sk-container-id-1 div.sk-parallel-item:first-child::after {\n",
              "  align-self: flex-end;\n",
              "  width: 50%;\n",
              "}\n",
              "\n",
              "#sk-container-id-1 div.sk-parallel-item:last-child::after {\n",
              "  align-self: flex-start;\n",
              "  width: 50%;\n",
              "}\n",
              "\n",
              "#sk-container-id-1 div.sk-parallel-item:only-child::after {\n",
              "  width: 0;\n",
              "}\n",
              "\n",
              "/* Serial-specific style estimator block */\n",
              "\n",
              "#sk-container-id-1 div.sk-serial {\n",
              "  display: flex;\n",
              "  flex-direction: column;\n",
              "  align-items: center;\n",
              "  background-color: var(--sklearn-color-background);\n",
              "  padding-right: 1em;\n",
              "  padding-left: 1em;\n",
              "}\n",
              "\n",
              "\n",
              "/* Toggleable style: style used for estimator/Pipeline/ColumnTransformer box that is\n",
              "clickable and can be expanded/collapsed.\n",
              "- Pipeline and ColumnTransformer use this feature and define the default style\n",
              "- Estimators will overwrite some part of the style using the `sk-estimator` class\n",
              "*/\n",
              "\n",
              "/* Pipeline and ColumnTransformer style (default) */\n",
              "\n",
              "#sk-container-id-1 div.sk-toggleable {\n",
              "  /* Default theme specific background. It is overwritten whether we have a\n",
              "  specific estimator or a Pipeline/ColumnTransformer */\n",
              "  background-color: var(--sklearn-color-background);\n",
              "}\n",
              "\n",
              "/* Toggleable label */\n",
              "#sk-container-id-1 label.sk-toggleable__label {\n",
              "  cursor: pointer;\n",
              "  display: flex;\n",
              "  width: 100%;\n",
              "  margin-bottom: 0;\n",
              "  padding: 0.5em;\n",
              "  box-sizing: border-box;\n",
              "  text-align: center;\n",
              "  align-items: start;\n",
              "  justify-content: space-between;\n",
              "  gap: 0.5em;\n",
              "}\n",
              "\n",
              "#sk-container-id-1 label.sk-toggleable__label .caption {\n",
              "  font-size: 0.6rem;\n",
              "  font-weight: lighter;\n",
              "  color: var(--sklearn-color-text-muted);\n",
              "}\n",
              "\n",
              "#sk-container-id-1 label.sk-toggleable__label-arrow:before {\n",
              "  /* Arrow on the left of the label */\n",
              "  content: \"▸\";\n",
              "  float: left;\n",
              "  margin-right: 0.25em;\n",
              "  color: var(--sklearn-color-icon);\n",
              "}\n",
              "\n",
              "#sk-container-id-1 label.sk-toggleable__label-arrow:hover:before {\n",
              "  color: var(--sklearn-color-text);\n",
              "}\n",
              "\n",
              "/* Toggleable content - dropdown */\n",
              "\n",
              "#sk-container-id-1 div.sk-toggleable__content {\n",
              "  max-height: 0;\n",
              "  max-width: 0;\n",
              "  overflow: hidden;\n",
              "  text-align: left;\n",
              "  /* unfitted */\n",
              "  background-color: var(--sklearn-color-unfitted-level-0);\n",
              "}\n",
              "\n",
              "#sk-container-id-1 div.sk-toggleable__content.fitted {\n",
              "  /* fitted */\n",
              "  background-color: var(--sklearn-color-fitted-level-0);\n",
              "}\n",
              "\n",
              "#sk-container-id-1 div.sk-toggleable__content pre {\n",
              "  margin: 0.2em;\n",
              "  border-radius: 0.25em;\n",
              "  color: var(--sklearn-color-text);\n",
              "  /* unfitted */\n",
              "  background-color: var(--sklearn-color-unfitted-level-0);\n",
              "}\n",
              "\n",
              "#sk-container-id-1 div.sk-toggleable__content.fitted pre {\n",
              "  /* unfitted */\n",
              "  background-color: var(--sklearn-color-fitted-level-0);\n",
              "}\n",
              "\n",
              "#sk-container-id-1 input.sk-toggleable__control:checked~div.sk-toggleable__content {\n",
              "  /* Expand drop-down */\n",
              "  max-height: 200px;\n",
              "  max-width: 100%;\n",
              "  overflow: auto;\n",
              "}\n",
              "\n",
              "#sk-container-id-1 input.sk-toggleable__control:checked~label.sk-toggleable__label-arrow:before {\n",
              "  content: \"▾\";\n",
              "}\n",
              "\n",
              "/* Pipeline/ColumnTransformer-specific style */\n",
              "\n",
              "#sk-container-id-1 div.sk-label input.sk-toggleable__control:checked~label.sk-toggleable__label {\n",
              "  color: var(--sklearn-color-text);\n",
              "  background-color: var(--sklearn-color-unfitted-level-2);\n",
              "}\n",
              "\n",
              "#sk-container-id-1 div.sk-label.fitted input.sk-toggleable__control:checked~label.sk-toggleable__label {\n",
              "  background-color: var(--sklearn-color-fitted-level-2);\n",
              "}\n",
              "\n",
              "/* Estimator-specific style */\n",
              "\n",
              "/* Colorize estimator box */\n",
              "#sk-container-id-1 div.sk-estimator input.sk-toggleable__control:checked~label.sk-toggleable__label {\n",
              "  /* unfitted */\n",
              "  background-color: var(--sklearn-color-unfitted-level-2);\n",
              "}\n",
              "\n",
              "#sk-container-id-1 div.sk-estimator.fitted input.sk-toggleable__control:checked~label.sk-toggleable__label {\n",
              "  /* fitted */\n",
              "  background-color: var(--sklearn-color-fitted-level-2);\n",
              "}\n",
              "\n",
              "#sk-container-id-1 div.sk-label label.sk-toggleable__label,\n",
              "#sk-container-id-1 div.sk-label label {\n",
              "  /* The background is the default theme color */\n",
              "  color: var(--sklearn-color-text-on-default-background);\n",
              "}\n",
              "\n",
              "/* On hover, darken the color of the background */\n",
              "#sk-container-id-1 div.sk-label:hover label.sk-toggleable__label {\n",
              "  color: var(--sklearn-color-text);\n",
              "  background-color: var(--sklearn-color-unfitted-level-2);\n",
              "}\n",
              "\n",
              "/* Label box, darken color on hover, fitted */\n",
              "#sk-container-id-1 div.sk-label.fitted:hover label.sk-toggleable__label.fitted {\n",
              "  color: var(--sklearn-color-text);\n",
              "  background-color: var(--sklearn-color-fitted-level-2);\n",
              "}\n",
              "\n",
              "/* Estimator label */\n",
              "\n",
              "#sk-container-id-1 div.sk-label label {\n",
              "  font-family: monospace;\n",
              "  font-weight: bold;\n",
              "  display: inline-block;\n",
              "  line-height: 1.2em;\n",
              "}\n",
              "\n",
              "#sk-container-id-1 div.sk-label-container {\n",
              "  text-align: center;\n",
              "}\n",
              "\n",
              "/* Estimator-specific */\n",
              "#sk-container-id-1 div.sk-estimator {\n",
              "  font-family: monospace;\n",
              "  border: 1px dotted var(--sklearn-color-border-box);\n",
              "  border-radius: 0.25em;\n",
              "  box-sizing: border-box;\n",
              "  margin-bottom: 0.5em;\n",
              "  /* unfitted */\n",
              "  background-color: var(--sklearn-color-unfitted-level-0);\n",
              "}\n",
              "\n",
              "#sk-container-id-1 div.sk-estimator.fitted {\n",
              "  /* fitted */\n",
              "  background-color: var(--sklearn-color-fitted-level-0);\n",
              "}\n",
              "\n",
              "/* on hover */\n",
              "#sk-container-id-1 div.sk-estimator:hover {\n",
              "  /* unfitted */\n",
              "  background-color: var(--sklearn-color-unfitted-level-2);\n",
              "}\n",
              "\n",
              "#sk-container-id-1 div.sk-estimator.fitted:hover {\n",
              "  /* fitted */\n",
              "  background-color: var(--sklearn-color-fitted-level-2);\n",
              "}\n",
              "\n",
              "/* Specification for estimator info (e.g. \"i\" and \"?\") */\n",
              "\n",
              "/* Common style for \"i\" and \"?\" */\n",
              "\n",
              ".sk-estimator-doc-link,\n",
              "a:link.sk-estimator-doc-link,\n",
              "a:visited.sk-estimator-doc-link {\n",
              "  float: right;\n",
              "  font-size: smaller;\n",
              "  line-height: 1em;\n",
              "  font-family: monospace;\n",
              "  background-color: var(--sklearn-color-background);\n",
              "  border-radius: 1em;\n",
              "  height: 1em;\n",
              "  width: 1em;\n",
              "  text-decoration: none !important;\n",
              "  margin-left: 0.5em;\n",
              "  text-align: center;\n",
              "  /* unfitted */\n",
              "  border: var(--sklearn-color-unfitted-level-1) 1pt solid;\n",
              "  color: var(--sklearn-color-unfitted-level-1);\n",
              "}\n",
              "\n",
              ".sk-estimator-doc-link.fitted,\n",
              "a:link.sk-estimator-doc-link.fitted,\n",
              "a:visited.sk-estimator-doc-link.fitted {\n",
              "  /* fitted */\n",
              "  border: var(--sklearn-color-fitted-level-1) 1pt solid;\n",
              "  color: var(--sklearn-color-fitted-level-1);\n",
              "}\n",
              "\n",
              "/* On hover */\n",
              "div.sk-estimator:hover .sk-estimator-doc-link:hover,\n",
              ".sk-estimator-doc-link:hover,\n",
              "div.sk-label-container:hover .sk-estimator-doc-link:hover,\n",
              ".sk-estimator-doc-link:hover {\n",
              "  /* unfitted */\n",
              "  background-color: var(--sklearn-color-unfitted-level-3);\n",
              "  color: var(--sklearn-color-background);\n",
              "  text-decoration: none;\n",
              "}\n",
              "\n",
              "div.sk-estimator.fitted:hover .sk-estimator-doc-link.fitted:hover,\n",
              ".sk-estimator-doc-link.fitted:hover,\n",
              "div.sk-label-container:hover .sk-estimator-doc-link.fitted:hover,\n",
              ".sk-estimator-doc-link.fitted:hover {\n",
              "  /* fitted */\n",
              "  background-color: var(--sklearn-color-fitted-level-3);\n",
              "  color: var(--sklearn-color-background);\n",
              "  text-decoration: none;\n",
              "}\n",
              "\n",
              "/* Span, style for the box shown on hovering the info icon */\n",
              ".sk-estimator-doc-link span {\n",
              "  display: none;\n",
              "  z-index: 9999;\n",
              "  position: relative;\n",
              "  font-weight: normal;\n",
              "  right: .2ex;\n",
              "  padding: .5ex;\n",
              "  margin: .5ex;\n",
              "  width: min-content;\n",
              "  min-width: 20ex;\n",
              "  max-width: 50ex;\n",
              "  color: var(--sklearn-color-text);\n",
              "  box-shadow: 2pt 2pt 4pt #999;\n",
              "  /* unfitted */\n",
              "  background: var(--sklearn-color-unfitted-level-0);\n",
              "  border: .5pt solid var(--sklearn-color-unfitted-level-3);\n",
              "}\n",
              "\n",
              ".sk-estimator-doc-link.fitted span {\n",
              "  /* fitted */\n",
              "  background: var(--sklearn-color-fitted-level-0);\n",
              "  border: var(--sklearn-color-fitted-level-3);\n",
              "}\n",
              "\n",
              ".sk-estimator-doc-link:hover span {\n",
              "  display: block;\n",
              "}\n",
              "\n",
              "/* \"?\"-specific style due to the `<a>` HTML tag */\n",
              "\n",
              "#sk-container-id-1 a.estimator_doc_link {\n",
              "  float: right;\n",
              "  font-size: 1rem;\n",
              "  line-height: 1em;\n",
              "  font-family: monospace;\n",
              "  background-color: var(--sklearn-color-background);\n",
              "  border-radius: 1rem;\n",
              "  height: 1rem;\n",
              "  width: 1rem;\n",
              "  text-decoration: none;\n",
              "  /* unfitted */\n",
              "  color: var(--sklearn-color-unfitted-level-1);\n",
              "  border: var(--sklearn-color-unfitted-level-1) 1pt solid;\n",
              "}\n",
              "\n",
              "#sk-container-id-1 a.estimator_doc_link.fitted {\n",
              "  /* fitted */\n",
              "  border: var(--sklearn-color-fitted-level-1) 1pt solid;\n",
              "  color: var(--sklearn-color-fitted-level-1);\n",
              "}\n",
              "\n",
              "/* On hover */\n",
              "#sk-container-id-1 a.estimator_doc_link:hover {\n",
              "  /* unfitted */\n",
              "  background-color: var(--sklearn-color-unfitted-level-3);\n",
              "  color: var(--sklearn-color-background);\n",
              "  text-decoration: none;\n",
              "}\n",
              "\n",
              "#sk-container-id-1 a.estimator_doc_link.fitted:hover {\n",
              "  /* fitted */\n",
              "  background-color: var(--sklearn-color-fitted-level-3);\n",
              "}\n",
              "</style><div id=\"sk-container-id-1\" class=\"sk-top-container\"><div class=\"sk-text-repr-fallback\"><pre>Pipeline(steps=[(&#x27;imputador&#x27;, SimpleImputer()),\n",
              "                (&#x27;xgb&#x27;,\n",
              "                 XGBRegressor(base_score=None, booster=None, callbacks=None,\n",
              "                              colsample_bylevel=None, colsample_bynode=None,\n",
              "                              colsample_bytree=None, device=None,\n",
              "                              early_stopping_rounds=None,\n",
              "                              enable_categorical=False, eval_metric=None,\n",
              "                              feature_types=None, gamma=None, grow_policy=None,\n",
              "                              importance_type=None,\n",
              "                              interaction_constraints=None, learning_rate=0.01,\n",
              "                              max_bin=None, max_cat_threshold=None,\n",
              "                              max_cat_to_onehot=None, max_delta_step=None,\n",
              "                              max_depth=3, max_leaves=None,\n",
              "                              min_child_weight=None, missing=nan,\n",
              "                              monotone_constraints=None, multi_strategy=None,\n",
              "                              n_estimators=50, n_jobs=None,\n",
              "                              num_parallel_tree=None, random_state=42, ...))])</pre><b>In a Jupyter environment, please rerun this cell to show the HTML representation or trust the notebook. <br />On GitHub, the HTML representation is unable to render, please try loading this page with nbviewer.org.</b></div><div class=\"sk-container\" hidden><div class=\"sk-item sk-dashed-wrapped\"><div class=\"sk-label-container\"><div class=\"sk-label fitted sk-toggleable\"><input class=\"sk-toggleable__control sk-hidden--visually\" id=\"sk-estimator-id-1\" type=\"checkbox\" ><label for=\"sk-estimator-id-1\" class=\"sk-toggleable__label fitted sk-toggleable__label-arrow\"><div><div>Pipeline</div></div><div><a class=\"sk-estimator-doc-link fitted\" rel=\"noreferrer\" target=\"_blank\" href=\"https://scikit-learn.org/1.6/modules/generated/sklearn.pipeline.Pipeline.html\">?<span>Documentation for Pipeline</span></a><span class=\"sk-estimator-doc-link fitted\">i<span>Fitted</span></span></div></label><div class=\"sk-toggleable__content fitted\"><pre>Pipeline(steps=[(&#x27;imputador&#x27;, SimpleImputer()),\n",
              "                (&#x27;xgb&#x27;,\n",
              "                 XGBRegressor(base_score=None, booster=None, callbacks=None,\n",
              "                              colsample_bylevel=None, colsample_bynode=None,\n",
              "                              colsample_bytree=None, device=None,\n",
              "                              early_stopping_rounds=None,\n",
              "                              enable_categorical=False, eval_metric=None,\n",
              "                              feature_types=None, gamma=None, grow_policy=None,\n",
              "                              importance_type=None,\n",
              "                              interaction_constraints=None, learning_rate=0.01,\n",
              "                              max_bin=None, max_cat_threshold=None,\n",
              "                              max_cat_to_onehot=None, max_delta_step=None,\n",
              "                              max_depth=3, max_leaves=None,\n",
              "                              min_child_weight=None, missing=nan,\n",
              "                              monotone_constraints=None, multi_strategy=None,\n",
              "                              n_estimators=50, n_jobs=None,\n",
              "                              num_parallel_tree=None, random_state=42, ...))])</pre></div> </div></div><div class=\"sk-serial\"><div class=\"sk-item\"><div class=\"sk-estimator fitted sk-toggleable\"><input class=\"sk-toggleable__control sk-hidden--visually\" id=\"sk-estimator-id-2\" type=\"checkbox\" ><label for=\"sk-estimator-id-2\" class=\"sk-toggleable__label fitted sk-toggleable__label-arrow\"><div><div>SimpleImputer</div></div><div><a class=\"sk-estimator-doc-link fitted\" rel=\"noreferrer\" target=\"_blank\" href=\"https://scikit-learn.org/1.6/modules/generated/sklearn.impute.SimpleImputer.html\">?<span>Documentation for SimpleImputer</span></a></div></label><div class=\"sk-toggleable__content fitted\"><pre>SimpleImputer()</pre></div> </div></div><div class=\"sk-item\"><div class=\"sk-estimator fitted sk-toggleable\"><input class=\"sk-toggleable__control sk-hidden--visually\" id=\"sk-estimator-id-3\" type=\"checkbox\" ><label for=\"sk-estimator-id-3\" class=\"sk-toggleable__label fitted sk-toggleable__label-arrow\"><div><div>XGBRegressor</div></div></label><div class=\"sk-toggleable__content fitted\"><pre>XGBRegressor(base_score=None, booster=None, callbacks=None,\n",
              "             colsample_bylevel=None, colsample_bynode=None,\n",
              "             colsample_bytree=None, device=None, early_stopping_rounds=None,\n",
              "             enable_categorical=False, eval_metric=None, feature_types=None,\n",
              "             gamma=None, grow_policy=None, importance_type=None,\n",
              "             interaction_constraints=None, learning_rate=0.01, max_bin=None,\n",
              "             max_cat_threshold=None, max_cat_to_onehot=None,\n",
              "             max_delta_step=None, max_depth=3, max_leaves=None,\n",
              "             min_child_weight=None, missing=nan, monotone_constraints=None,\n",
              "             multi_strategy=None, n_estimators=50, n_jobs=None,\n",
              "             num_parallel_tree=None, random_state=42, ...)</pre></div> </div></div></div></div></div></div>"
            ]
          },
          "metadata": {},
          "execution_count": 15
        }
      ]
    },
    {
      "cell_type": "code",
      "source": [
        "# 15. Fazer previsões no conjunto de teste\n",
        "y_pred = melhor_pipeline.predict(X_test)"
      ],
      "metadata": {
        "id": "Dx9vJjb9hn1_"
      },
      "execution_count": 16,
      "outputs": []
    },
    {
      "cell_type": "code",
      "source": [
        "# 16. Calcular métricas de erro e desempenho\n",
        "mae = mean_absolute_error(y_test, y_pred)                  # Erro absoluto médio\n",
        "rmse = np.sqrt(mean_squared_error(y_test, y_pred))         # Raiz do erro quadrático médio\n",
        "r2 = r2_score(y_test, y_pred)                              # Coeficiente de determinação\n",
        "\n",
        "print(\"\\n📊 Avaliação final no conjunto de teste:\")\n",
        "print(f\"MAE:  {mae:.2f}\")\n",
        "print(f\"RMSE: {rmse:.2f}\")\n",
        "print(f\"R²:   {r2:.4f}\")"
      ],
      "metadata": {
        "colab": {
          "base_uri": "https://localhost:8080/"
        },
        "id": "N94-7Q_ehqai",
        "outputId": "961c69fd-d574-4618-e00e-2de9fb2c830f"
      },
      "execution_count": 17,
      "outputs": [
        {
          "output_type": "stream",
          "name": "stdout",
          "text": [
            "\n",
            "📊 Avaliação final no conjunto de teste:\n",
            "MAE:  5.68\n",
            "RMSE: 7.44\n",
            "R²:   0.0377\n"
          ]
        }
      ]
    },
    {
      "cell_type": "code",
      "source": [
        "# 17. Visualizar relação entre valores reais e previstos\n",
        "plt.figure(figsize=(10, 5))\n",
        "plt.scatter(y_test, y_pred, alpha=0.5, color='blue')\n",
        "plt.plot([y_test.min(), y_test.max()], [y_test.min(), y_test.max()], 'r--', linewidth=2)\n",
        "plt.xlabel(\"Valor Real de C6H6 (µg/m³)\")\n",
        "plt.ylabel(\"Valor Predito\")\n",
        "plt.title(\"🎯 Previsão vs Real - XGBoost\")\n",
        "plt.grid(True)\n",
        "plt.tight_layout()\n",
        "plt.show()"
      ],
      "metadata": {
        "colab": {
          "base_uri": "https://localhost:8080/",
          "height": 542
        },
        "id": "HTxDCw85htVx",
        "outputId": "14809638-7ecf-4fe7-e716-0d531fbb2e5b"
      },
      "execution_count": 18,
      "outputs": [
        {
          "output_type": "stream",
          "name": "stderr",
          "text": [
            "/usr/local/lib/python3.11/dist-packages/IPython/core/pylabtools.py:151: UserWarning: Glyph 127919 (\\N{DIRECT HIT}) missing from font(s) DejaVu Sans.\n",
            "  fig.canvas.print_figure(bytes_io, **kw)\n"
          ]
        },
        {
          "output_type": "display_data",
          "data": {
            "text/plain": [
              "<Figure size 1000x500 with 1 Axes>"
            ],
            "image/png": "[encoded data removed]"
          },
          "metadata": {}
        }
      ]
    },
    {
      "cell_type": "code",
      "source": [
        "# 18. Visualizar importância das variáveis no modelo\n",
        "fig, ax = plt.subplots(figsize=(10,6))\n",
        "xgb_model = melhor_pipeline.named_steps['xgb']\n",
        "plot_importance(xgb_model, importance_type='gain', show_values=False, ax=ax)\n",
        "\n",
        "# Ajustar rótulos do eixo y para nomes reais das variáveis\n",
        "nomes_variaveis = sensores_existentes + ambientais_existentes\n",
        "ax.set_yticklabels(nomes_variaveis)\n",
        "\n",
        "plt.title(\"📌 Importância das Variáveis - XGBoost\")\n",
        "plt.tight_layout()\n",
        "plt.show()"
      ],
      "metadata": {
        "colab": {
          "base_uri": "https://localhost:8080/",
          "height": 676
        },
        "id": "9Dtf3MwQhv70",
        "outputId": "57299f0b-eac5-49d2-b5cc-cd929fa9cc86"
      },
      "execution_count": 19,
      "outputs": [
        {
          "output_type": "stream",
          "name": "stderr",
          "text": [
            "/tmp/ipython-input-19-1174585461.py:11: UserWarning: Glyph 128204 (\\N{PUSHPIN}) missing from font(s) DejaVu Sans.\n",
            "  plt.tight_layout()\n",
            "/usr/local/lib/python3.11/dist-packages/IPython/core/pylabtools.py:151: UserWarning: Glyph 128204 (\\N{PUSHPIN}) missing from font(s) DejaVu Sans.\n",
            "  fig.canvas.print_figure(bytes_io, **kw)\n"
          ]
        },
        {
          "output_type": "display_data",
          "data": {
            "text/plain": [
              "<Figure size 1000x600 with 1 Axes>"
            ],
            "image/png": "[encoded data removed]"
          },
          "metadata": {}
        }
      ]
    },
    {
      "cell_type": "code",
      "source": [
        "# 19. Salvar pipeline otimizado em arquivo para deploy futuro\n",
        "joblib.dump(melhor_pipeline, 'pipeline_xgb_airquality_optimizado.pkl')\n",
        "print(\"\\n💾 Pipeline otimizado salvo como 'pipeline_xgb_airquality_optimizado.pkl'\")"
      ],
      "metadata": {
        "colab": {
          "base_uri": "https://localhost:8080/"
        },
        "id": "gZ2-RdldhzSW",
        "outputId": "4361c40c-f66b-4c52-a15e-e19fe1ad2abf"
      },
      "execution_count": 20,
      "outputs": [
        {
          "output_type": "stream",
          "name": "stdout",
          "text": [
            "\n",
            "💾 Pipeline otimizado salvo como 'pipeline_xgb_airquality_optimizado.pkl'\n"
          ]
        }
      ]
    },
    {
      "cell_type": "markdown",
      "source": [
        "✅ 1. Indicadores de Desempenho do Modelo\n",
        "a) R² (R-quadrado)\n",
        "Definição: mede a proporção da variabilidade da variável alvo (C6H6) que é explicada pelas variáveis preditoras.\n",
        "\n",
        "Resultado esperado: o R² médio da validação cruzada deve estar entre 0.7 e 0.95 se o modelo for bom.\n",
        "\n",
        "Interpretação:\n",
        "\n",
        "Ex: R² médio: 0.87 → Muito bom, o modelo explica 87% da variação da concentração de benzeno com as variáveis fornecidas.\n",
        "\n",
        "b) MAE (Erro Absoluto Médio)\n",
        "Definição: média das diferenças absolutas entre valores reais e previstos. Mais interpretável diretamente na unidade da variável (µg/m³).\n",
        "\n",
        "Exemplo: MAE = 1.25 significa que, em média, o modelo erra a concentração de C6H6 em 1.25 µg/m³.\n",
        "\n",
        "c) RMSE (Raiz do Erro Quadrático Médio)\n",
        "Definição: penaliza erros grandes de forma mais severa. Se for muito maior que o MAE, indica outliers.\n",
        "\n",
        "Exemplo: RMSE = 1.60 → indica a variabilidade esperada do erro.\n",
        "\n",
        "d) Validação Cruzada x Teste\n",
        "Se o R² do teste for próximo ao R² médio da validação cruzada, isso mostra que o modelo generaliza bem.\n",
        "\n",
        "Exemplo:\n",
        "\n",
        "R² Validação Cruzada: 0.87\n",
        "\n",
        "R² Teste: 0.85 → excelente estabilidade do modelo.\n",
        "\n",
        "\n",
        "📈 2. Gráfico: Valor Real vs Valor Predito\n",
        "O que é:\n",
        "Um gráfico de dispersão onde:\n",
        "\n",
        "Eixo X = valores reais de C6H6\n",
        "\n",
        "Eixo Y = valores previstos pelo modelo\n",
        "\n",
        "Linha vermelha tracejada = linha ideal (onde previsão = valor real)\n",
        "\n",
        "Como interpretar:\n",
        "Quanto mais próximos os pontos estiverem da linha vermelha, melhor o modelo.\n",
        "\n",
        "Distribuição simétrica ao redor da linha indica bom ajuste.\n",
        "\n",
        "Se houver padrão curvo ou espalhamento desigual, pode indicar que algum padrão relevante está sendo ignorado.\n",
        "\n",
        "\n",
        "📊 3. Gráfico: Importância das Variáveis (Feature Importance)\n",
        "O que é:\n",
        "Um gráfico de barras horizontais que mostra quais variáveis mais impactam nas decisões do modelo.\n",
        "\n",
        "Utiliza o critério de ganho (gain), que mede a melhoria na divisão causada por essa variável em todas as árvores.\n",
        "\n",
        "Como interpretar:\n",
        "As variáveis no topo são as mais importantes.\n",
        "\n",
        "Exemplo de ranking (hipotético):\n",
        "\n",
        "PT08_S5_O3 – sensor de ozônio: maior influência sobre benzeno\n",
        "\n",
        "AH – umidade absoluta: relevante para dispersão de gases\n",
        "\n",
        "PT08_S4_NO2 – sensor de NO₂: provável correlação indireta com C6H6\n",
        "\n",
        "Observação:\n",
        "Se variáveis ambientais como temperatura (T), umidade (RH) e AH aparecerem com alta importância, pode indicar forte influência das condições climáticas na concentração de benzeno.\n",
        "\n",
        "\n",
        "📌 Síntese Final\n",
        "O modelo é robusto, com bom desempenho preditivo tanto em validação cruzada quanto em teste.\n",
        "\n",
        "O XGBoost foi uma excelente escolha por lidar bem com dados faltantes, outliers e relações não lineares.\n",
        "\n",
        "A concentração de C6H6 (benzeno) pôde ser explicada de forma eficaz por sensores químicos e variáveis ambientais.\n",
        "\n",
        "O pipeline e o modelo estão prontos para uso em produção (e foram salvos via joblib).\n"
      ],
      "metadata": {
        "id": "2uJGgFF0h3F4"
      }
    }
  ]
}